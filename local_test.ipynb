{
 "cells": [
  {
   "cell_type": "code",
   "execution_count": 1,
   "metadata": {},
   "outputs": [
    {
     "name": "stderr",
     "output_type": "stream",
     "text": [
      "/home/codespace/.local/lib/python3.10/site-packages/tqdm/auto.py:21: TqdmWarning: IProgress not found. Please update jupyter and ipywidgets. See https://ipywidgets.readthedocs.io/en/stable/user_install.html\n",
      "  from .autonotebook import tqdm as notebook_tqdm\n"
     ]
    }
   ],
   "source": [
    "from transformers import LongformerTokenizer, LongformerModel\n",
    "from transformers import BartForConditionalGeneration, BartTokenizer\n",
    "import torch\n"
   ]
  },
  {
   "cell_type": "code",
   "execution_count": 2,
   "metadata": {},
   "outputs": [],
   "source": [
    "\n",
    "# 假设我们有一篇很长的文档，已经分成了多个段落\n",
    "document_paragraphs = [\n",
    "    '''This ebook is for the use of anyone anywhere in the United States and\n",
    "most other parts of the world at no cost and with almost no restrictions\n",
    "whatsoever. You may copy it, give it away or re-use it under the terms\n",
    "of the Project Gutenberg License included with this ebook or online\n",
    "at www.gutenberg.org. If you are not located in the United States,\n",
    "you will have to check the laws of the country where you are located\n",
    "before using this eBook.\n",
    "\n",
    "Title: Worth his while\n",
    "\n",
    "\n",
    "Author: Amy Ella Blanchard\n",
    "\n",
    "Release date: February 20, 2024 [eBook #72998]\n",
    "\n",
    "Language: English\n",
    "\n",
    "Original publication: United States: George W. Jacobs & Co, 1901\n",
    "\n",
    "Credits: Carol Brown, Aaron Adrignola and the Online Distributed Proofreading Team at https://www.pgdp.net (This file was produced from images generously made available by The Internet Archive)\n",
    "\n",
    "\n",
    "*** START OF THE PROJECT GUTENBERG EBOOK WORTH HIS WHILE ***\n",
    "\n",
    "\n",
    "[Illustration: HE SAT SWINGING HIS BARE FEET OVER THE WATER]\n",
    "\n",
    "\n",
    "\n",
    "\n",
    "                            WORTH HIS WHILE\n",
    "\n",
    "\n",
    "\n",
    "\n",
    "                                   BY\n",
    "\n",
    "                            AMY E. BLANCHARD\n",
    "\n",
    "         Author of “Kittyboy’s Christmas,” “Taking a Stand,” “A\n",
    "             Dear Little Girl,” “Thy Friend Dorothy,” Etc.\n",
    "\n",
    "\n",
    "\n",
    "\n",
    "                              Philadelphia\n",
    "                         GEORGE W. JACOBS & CO.\n",
    "                       103-105 So. Fifteenth St.\n",
    "\n",
    "\n",
    "\n",
    "\n",
    "                          COPYRIGHT, 1901, BY\n",
    "                         GEORGE W. JACOBS & CO.\n",
    "\n",
    "\n",
    "\n",
    "\n",
    "                                CONTENTS\n",
    "\n",
    "\n",
    "                   I. ON THE WAY TO BIG CREEK        7\n",
    "\n",
    "                  II. BENNY FINDS A FRIEND          23\n",
    "\n",
    "                 III. AMONG THE PICKERS             38\n",
    "\n",
    "                  IV. A HIDDEN ENEMY                52\n",
    "\n",
    "                   V. BENNY AND A RING              65\n",
    "\n",
    "                  VI. BEN’S BEAUTIFUL SURPRISE      80\n",
    "\n",
    "                 VII. HIS FATHER’S PLAN             94\n",
    "\n",
    "\n",
    "\n",
    "\n",
    "                         LIST OF ILLUSTRATIONS\n",
    "\n",
    "\n",
    "               “HE SAT SWINGING HIS BARE FEET\n",
    "                   OVER THE WATER,”      _Frontispiece_\n",
    "\n",
    "               “IT WAS NOT VERY PLEASANT WORK,”      39\n",
    "\n",
    "               “SUCH A GLAD MOTHER,”                102\n",
    "\n",
    "\n",
    "\n",
    "\n",
    "                               CHAPTER I\n",
    "\n",
    "                        ON THE WAY TO BIG CREEK\n",
    "''',\n",
    "'''\n",
    " CHAPTER I\n",
    "\n",
    "                        ON THE WAY TO BIG CREEK\n",
    "\n",
    "\n",
    "Oh, how hot it was! Down in the narrow streets, where straight rows of\n",
    "little brick houses were crowded together there was not the faintest\n",
    "breeze, and even on the wharf where Benny Jordan sat swinging his bare\n",
    "feet over the water, it was scarcely cooler. Usually there were little\n",
    "waves splashing up against the green logs of the pier, but to-day only\n",
    "the faintest little ripples swished lazily against the piles and the\n",
    "boats lying farther out did not flap a sail.\n",
    "\n",
    "“It’s no good staying here,” said Benny to himself, as he got up and\n",
    "stretched his arms over his head. “It’s just about as hot as it is at\n",
    "home. I wonder what there is for supper. My, but I’d like some ice\n",
    "cream! I haven’t had any for so long, and I reckon I never will have\n",
    "any again.” And at this very sobering thought Benny began to patter\n",
    "along over the sidewalk, almost forgetting that this was the hottest\n",
    "day of the season, entirely too hot for May, and that the big excursion\n",
    "steamer, which he had been waiting to see, would soon be in sight.\n",
    "\n",
    "“’Tain’t any use to wait,” he said to himself, as if apologizing. “I’d\n",
    "only see the crowd, and what’s a crowd, anyhow?”\n",
    "\n",
    "So he marched on up the street, passing the fruit stands and\n",
    "ill-smelling warehouses, until he turned into one of the small streets\n",
    "leading out of the thoroughfare, and presently he arrived at a small\n",
    "two-story brick house, one of a long row. So much alike were these\n",
    "buildings that it is a wonder Benny knew how to tell his own home\n",
    "without counting the doorways.\n",
    "''',\n",
    "'''\n",
    "“Where’s mother?” was his question as he reached the door.\n",
    "\n",
    "His sister Kitty, sitting on the doorstep, looked up, “She’s upstairs,\n",
    "of course, sewing as hard as she can, and it’s so hot.”\n",
    "\n",
    "Benny went pounding up the stairs to the room where his mother sat\n",
    "sewing. “Say, mother, it’s too hot to sew,” he exclaimed.\n",
    "\n",
    "“But it isn’t too hot to eat, is it?” she said, looking up with a\n",
    "smile. “You know if I didn’t sew we wouldn’t have anything to eat.”\n",
    "\n",
    "“That’s so,” replied Benny, slowly.\n",
    "\n",
    "“Where have you been?” asked his mother, stopping to push back the damp\n",
    "hair from her face.\n",
    "\n",
    "“I’ve been down on the wharf; it’s generally cool there, but it’s hot\n",
    "everywhere to-day. I like to go there, though; I like to see the people\n",
    "come up from the country with big bundles of flowers, and I like to\n",
    "watch the men unload the boats. They brought such a lot of strawberries\n",
    "to-day.”\n",
    "\n",
    "“This weather ripens them fast. It is very early to have such heat.”\n",
    "\n",
    "“I wish we lived in the country,” said Benny. “Isn’t it cheaper to live\n",
    "there?”\n",
    "\n",
    "“Ye-es, if you have some one to work your garden and take care of your\n",
    "stock. But how could I make a living for you and Kitty?”\n",
    "\n",
    "“We could help,” Benny replied.\n",
    "\n",
    "“Not much, I’m afraid. A little boy ten years old and a little girl\n",
    "seven would scarcely be able to do much toward making a living.”\n",
    "\n",
    "“But shouldn’t you like to live there?” persisted Benny.\n",
    "\n",
    "“I should, indeed,” returned his mother, with a sigh. “I was brought up\n",
    "on a farm, you know, and so was your father.”\n",
    "\n",
    "Benny had heard of that farm many, many times. He knew all about the\n",
    "spring and the orchard, the barn and the garden. “Grandfather sold it,\n",
    "didn’t he?” was his remark, made regretfully.\n",
    "\n",
    "“Yes, long ago. Come, we must have some supper. You and sister can set\n",
    "the table.”\n",
    "\n",
    "“What is there for supper?”\n",
    "\n",
    "“Nothing but bread and molasses, I’m afraid.”\n",
    "\n",
    "“I wish we could have some ice cream and strawberries.”\n",
    "\n",
    "“Now you are making an extravagant wish. We can’t have that, but,\n",
    "perhaps, we might have some bread and milk. You can go and get a quart\n",
    "of milk and we’ll have a treat.”\n",
    "\n",
    "Benny’s face brightened. Bread and cold milk on a hot day was a much\n",
    "more appetizing prospect than bread and molasses, and the little boy\n",
    "promptly ran down to tell his sister.\n",
    "\n",
    "“Hurry up, Kit, and set the table; we’re going to have bread and milk.\n",
    "Where’s a tin bucket?”\n",
    "\n",
    "Pale little Kitty put down her paper dolls with alacrity, and before\n",
    "long the little family were seated at the table. Slowly and reluctantly\n",
    "the children disposed of the last drop of milk in their bowls.\n",
    "\n",
    "“If we lived in the country, we could have this every night,” Benny\n",
    "said.\n",
    "\n",
    "“What has set you harping so on the country?” asked Mrs. Jordan.\n",
    "\n",
    "“Why, I don’t know. I reckon it’s hearing the men talk down at the\n",
    "wharf. One of ’em said this morning: ‘There’s no money for farmers\n",
    "nowadays. A man can’t make anything in the country.’ ‘He can always\n",
    "make a living,’ said the other, ‘and a pretty good one, too. How’d you\n",
    "like your wife and babies to be in the city this weather? Why, sir,\n",
    "there’s lots of folks would give anything to see their children tumble\n",
    "’round on the grass under such trees as you’ve got and have all the\n",
    "good milk they wanted to drink. I think we country people are pretty\n",
    "well off, myself. We don’t make a fortune, but we’ve got a good living\n",
    "right handy.’”\n",
    "\n",
    "Benny unconsciously imitated the man, and his mother laughed.\n",
    "\n",
    "“You surely took in that conversation, Benny. I’d like well enough to\n",
    "live under the green trees again. It’s what your father always planned\n",
    "to do some day when he had made enough to buy a little place.”\n",
    "\n",
    "Benny looked sober. He always felt as if he wanted to carry out his\n",
    "father’s plans, and this looked like a very hard one.\n",
    "\n",
    "“You make it worth while, and we’ll go,” said his mother, smiling. “Now\n",
    "I must go back to my buttonholes and you children can clear away the\n",
    "dishes.”\n",
    "\n",
    "“Don’t you wish you could find a way to get to the country?” said\n",
    "big-eyed little Kitty, as she carefully put away the last bowl.\n",
    "'''\n",
    "]\n"
   ]
  },
  {
   "cell_type": "code",
   "execution_count": 3,
   "metadata": {},
   "outputs": [
    {
     "name": "stderr",
     "output_type": "stream",
     "text": [
      "vocab.json: 100%|██████████| 899k/899k [00:00<00:00, 30.9MB/s]\n",
      "merges.txt: 100%|██████████| 456k/456k [00:00<00:00, 52.0MB/s]\n",
      "tokenizer.json: 100%|██████████| 1.36M/1.36M [00:00<00:00, 34.5MB/s]\n",
      "config.json: 100%|██████████| 1.58k/1.58k [00:00<00:00, 9.94MB/s]\n",
      "model.safetensors: 100%|██████████| 1.63G/1.63G [00:06<00:00, 242MB/s]\n",
      "generation_config.json: 100%|██████████| 363/363 [00:00<00:00, 1.71MB/s]\n"
     ]
    }
   ],
   "source": [
    "\n",
    "# 初始化BART分词器和模型用于摘要\n",
    "summary_model_name = 'facebook/bart-large-cnn'\n",
    "summary_tokenizer = BartTokenizer.from_pretrained(summary_model_name)\n",
    "summary_model = BartForConditionalGeneration.from_pretrained(summary_model_name)\n"
   ]
  },
  {
   "cell_type": "code",
   "execution_count": 4,
   "metadata": {},
   "outputs": [
    {
     "data": {
      "text/plain": [
       "BartTokenizer(name_or_path='facebook/bart-large-cnn', vocab_size=50265, model_max_length=1024, is_fast=False, padding_side='right', truncation_side='right', special_tokens={'bos_token': '<s>', 'eos_token': '</s>', 'unk_token': '<unk>', 'sep_token': '</s>', 'pad_token': '<pad>', 'cls_token': '<s>', 'mask_token': '<mask>'}, clean_up_tokenization_spaces=True),  added_tokens_decoder={\n",
       "\t0: AddedToken(\"<s>\", rstrip=False, lstrip=False, single_word=False, normalized=True, special=True),\n",
       "\t1: AddedToken(\"<pad>\", rstrip=False, lstrip=False, single_word=False, normalized=True, special=True),\n",
       "\t2: AddedToken(\"</s>\", rstrip=False, lstrip=False, single_word=False, normalized=True, special=True),\n",
       "\t3: AddedToken(\"<unk>\", rstrip=False, lstrip=False, single_word=False, normalized=True, special=True),\n",
       "\t50264: AddedToken(\"<mask>\", rstrip=False, lstrip=True, single_word=False, normalized=True, special=True),\n",
       "}"
      ]
     },
     "execution_count": 4,
     "metadata": {},
     "output_type": "execute_result"
    }
   ],
   "source": [
    "summary_tokenizer"
   ]
  },
  {
   "cell_type": "code",
   "execution_count": 5,
   "metadata": {},
   "outputs": [
    {
     "name": "stderr",
     "output_type": "stream",
     "text": [
      "vocab.json: 100%|██████████| 899k/899k [00:00<00:00, 77.9MB/s]\n",
      "merges.txt: 100%|██████████| 456k/456k [00:00<00:00, 53.7MB/s]\n",
      "tokenizer.json: 100%|██████████| 1.36M/1.36M [00:00<00:00, 40.2MB/s]\n",
      "config.json: 100%|██████████| 694/694 [00:00<00:00, 3.82MB/s]\n",
      "pytorch_model.bin: 100%|██████████| 597M/597M [00:02<00:00, 225MB/s] \n"
     ]
    }
   ],
   "source": [
    "\n",
    "# 初始化Longformer分词器和模型用于处理长文档\n",
    "longformer_tokenizer = LongformerTokenizer.from_pretrained('allenai/longformer-base-4096')\n",
    "longformer_model = LongformerModel.from_pretrained('allenai/longformer-base-4096')\n"
   ]
  },
  {
   "cell_type": "code",
   "execution_count": 6,
   "metadata": {},
   "outputs": [],
   "source": [
    "\n",
    "# 函数来摘要每个段落\n",
    "def summarize_paragraphs(paragraphs):\n",
    "    summarized_paragraphs = []\n",
    "    for paragraph in paragraphs:\n",
    "        inputs = summary_tokenizer(paragraph, return_tensors=\"pt\", max_length=1024, truncation=True)\n",
    "        summary_ids = summary_model.generate(inputs['input_ids'], num_beams=4, max_length=200, early_stopping=True)\n",
    "        summary = summary_tokenizer.decode(summary_ids[0], skip_special_tokens=True)\n",
    "        summarized_paragraphs.append(summary)\n",
    "    return summarized_paragraphs\n",
    "\n",
    "# 函数来编码文档的各个段落\n",
    "def encode_paragraphs_with_longformer(paragraphs):\n",
    "    # 使用Longformer分词器将所有段落编码为一个大的输入序列\n",
    "    inputs = longformer_tokenizer(paragraphs, return_tensors=\"pt\", padding=True, truncation=True)\n",
    "    # 获取模型的输出\n",
    "    outputs = longformer_model(**inputs)\n",
    "    return outputs.last_hidden_state\n"
   ]
  },
  {
   "cell_type": "code",
   "execution_count": 7,
   "metadata": {},
   "outputs": [],
   "source": [
    "\n",
    "# 首先对每个段落进行摘要\n",
    "summarized_paragraphs = summarize_paragraphs(document_paragraphs)\n"
   ]
  },
  {
   "cell_type": "code",
   "execution_count": 8,
   "metadata": {},
   "outputs": [
    {
     "name": "stdout",
     "output_type": "stream",
     "text": [
      "This ebook is for the use of anyone anywhere in the United States and most other parts of the world at no cost and with almost no restrictions. You may copy it, give it away or re-use it under the terms of the Project Gutenberg License included with this ebook. Use the weekly Newsquiz to test your knowledge of stories you saw on CNN.com.\n",
      "Benny Jordan is a young man who lives in a small town in the south of France. He travels with a friend to the coast to see a steamer in the summer. The trip is supposed to take them to the town of Big CREEK. The journey takes them along the coast of France on the way to Big Creek.\n",
      "Benny went pounding up the stairs to the room where his mother sat sewing. “Say, mother, it’s too hot to sew,” he exclaimed, “But it isn’t too hot for us to eat, is it?” “You know if I didn't sew we wouldn't have anything to eat”\n"
     ]
    }
   ],
   "source": [
    "for summary in summarized_paragraphs:\n",
    "    print(summary)"
   ]
  },
  {
   "cell_type": "code",
   "execution_count": 9,
   "metadata": {},
   "outputs": [
    {
     "name": "stderr",
     "output_type": "stream",
     "text": [
      "Input ids are automatically padded from 76 to 512 to be a multiple of `config.attention_window`: 512\n"
     ]
    }
   ],
   "source": [
    "\n",
    "# 然后使用Longformer编码摘要后的段落\n",
    "document_encoding = encode_paragraphs_with_longformer(summarized_paragraphs)\n",
    "\n",
    "# 'document_encoding' 现在包含了整个文档的编码表示\n",
    "\n"
   ]
  },
  {
   "cell_type": "code",
   "execution_count": 10,
   "metadata": {},
   "outputs": [
    {
     "data": {
      "text/plain": [
       "tensor([[[-0.0527,  0.0419,  0.0009,  ..., -0.0385, -0.0087, -0.0258],\n",
       "         [-0.1255,  0.0446,  0.1981,  ..., -0.1034,  0.0211,  0.1081],\n",
       "         [ 0.0277, -0.1335, -0.0579,  ..., -0.1619, -0.0416,  0.0771],\n",
       "         ...,\n",
       "         [ 0.0139, -0.2370,  0.2362,  ...,  0.2709,  0.0543, -0.0129],\n",
       "         [-0.0451,  0.0195, -0.0303,  ..., -0.0642, -0.0035, -0.0450],\n",
       "         [-0.0460,  0.0070,  0.0492,  ...,  0.2700, -0.0626,  0.0744]],\n",
       "\n",
       "        [[-0.0849,  0.0918,  0.0085,  ..., -0.1272,  0.0081, -0.0164],\n",
       "         [-0.0269,  0.1340, -0.0791,  ..., -0.2477,  0.0332,  0.0733],\n",
       "         [ 0.0806,  0.1495,  0.0204,  ..., -0.4351, -0.0202, -0.0085],\n",
       "         ...,\n",
       "         [-0.0236,  0.0741, -0.0145,  ..., -0.0990, -0.0409, -0.0745],\n",
       "         [-0.0236,  0.0741, -0.0145,  ..., -0.0990, -0.0409, -0.0745],\n",
       "         [-0.0236,  0.0741, -0.0145,  ..., -0.0990, -0.0409, -0.0745]],\n",
       "\n",
       "        [[-0.0663,  0.0769, -0.0304,  ..., -0.0939, -0.0667, -0.0595],\n",
       "         [-0.1029,  0.1345, -0.1238,  ..., -0.3242, -0.1148,  0.1254],\n",
       "         [ 0.1052,  0.1056, -0.0160,  ..., -0.2992, -0.0911,  0.0298],\n",
       "         ...,\n",
       "         [ 0.0240, -0.1761,  0.0601,  ..., -0.4601, -0.1207,  0.1218],\n",
       "         [-0.1032, -0.3658, -0.0079,  ..., -0.2060, -0.1839,  0.2277],\n",
       "         [-0.0337, -0.1182,  0.0416,  ...,  0.1200, -0.0764,  0.0775]]],\n",
       "       grad_fn=<SliceBackward0>)"
      ]
     },
     "execution_count": 10,
     "metadata": {},
     "output_type": "execute_result"
    }
   ],
   "source": [
    "document_encoding"
   ]
  },
  {
   "cell_type": "code",
   "execution_count": null,
   "metadata": {},
   "outputs": [],
   "source": []
  }
 ],
 "metadata": {
  "kernelspec": {
   "display_name": "Python 3",
   "language": "python",
   "name": "python3"
  },
  "language_info": {
   "codemirror_mode": {
    "name": "ipython",
    "version": 3
   },
   "file_extension": ".py",
   "mimetype": "text/x-python",
   "name": "python",
   "nbconvert_exporter": "python",
   "pygments_lexer": "ipython3",
   "version": "3.10.13"
  }
 },
 "nbformat": 4,
 "nbformat_minor": 2
}
